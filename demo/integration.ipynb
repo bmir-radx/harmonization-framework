{
 "cells": [
  {
   "cell_type": "code",
   "execution_count": 1,
   "metadata": {},
   "outputs": [],
   "source": [
    "import sys\n",
    "import pandas as pd\n",
    "\n",
    "from harmonization_framework.rule import HarmonizationRule\n",
    "from harmonization_framework.primitives import Cast, Bin, ConvertUnits, EnumToEnum, Round\n",
    "from harmonization_framework.rule_store import RuleStore\n",
    "from harmonization_framework.utils import transformations"
   ]
  },
  {
   "cell_type": "markdown",
   "metadata": {},
   "source": [
    "### Step 1: Set up logger"
   ]
  },
  {
   "cell_type": "code",
   "execution_count": 2,
   "metadata": {},
   "outputs": [],
   "source": [
    "import harmonization_framework.replay_log as rlog\n",
    "logger = rlog.configure_logger(3, \"demo.log\")"
   ]
  },
  {
   "cell_type": "markdown",
   "metadata": {},
   "source": [
    "### Step 2: Load and examine data"
   ]
  },
  {
   "cell_type": "code",
   "execution_count": 3,
   "metadata": {},
   "outputs": [],
   "source": [
    "df_source1 = pd.read_csv(\n",
    "    \"demo_source1.csv\",\n",
    "    index_col=0,\n",
    "    converters={\n",
    "        \"current_employment_status\": int,\n",
    "        \"commute_distance_miles\": float,\n",
    "    },\n",
    ")\n",
    "df_source1 = df_source1.drop([\"edu_years_of_school\", \"zip_code_9\"], axis=1)\n",
    "\n",
    "df_source2 = pd.read_csv(\n",
    "    \"demo_source2.csv\",\n",
    "    index_col=0,\n",
    "    converters={\n",
    "        \"employment\": int,\n",
    "        \"commute_distance_km\": float,\n",
    "    },\n",
    ")\n",
    "df_source2 = df_source2.drop([\"edu_years_of_school\", \"zip_code_9\"], axis=1)"
   ]
  },
  {
   "cell_type": "code",
   "execution_count": 4,
   "metadata": {},
   "outputs": [
    {
     "data": {
      "text/html": [
       "<div>\n",
       "<style scoped>\n",
       "    .dataframe tbody tr th:only-of-type {\n",
       "        vertical-align: middle;\n",
       "    }\n",
       "\n",
       "    .dataframe tbody tr th {\n",
       "        vertical-align: top;\n",
       "    }\n",
       "\n",
       "    .dataframe thead th {\n",
       "        text-align: right;\n",
       "    }\n",
       "</style>\n",
       "<table border=\"1\" class=\"dataframe\">\n",
       "  <thead>\n",
       "    <tr style=\"text-align: right;\">\n",
       "      <th></th>\n",
       "      <th>current_employment_status</th>\n",
       "      <th>commute_distance_miles</th>\n",
       "    </tr>\n",
       "    <tr>\n",
       "      <th>id</th>\n",
       "      <th></th>\n",
       "      <th></th>\n",
       "    </tr>\n",
       "  </thead>\n",
       "  <tbody>\n",
       "    <tr>\n",
       "      <th>0</th>\n",
       "      <td>7</td>\n",
       "      <td>4.70</td>\n",
       "    </tr>\n",
       "    <tr>\n",
       "      <th>1</th>\n",
       "      <td>2</td>\n",
       "      <td>6.69</td>\n",
       "    </tr>\n",
       "    <tr>\n",
       "      <th>2</th>\n",
       "      <td>1</td>\n",
       "      <td>8.44</td>\n",
       "    </tr>\n",
       "    <tr>\n",
       "      <th>3</th>\n",
       "      <td>3</td>\n",
       "      <td>0.00</td>\n",
       "    </tr>\n",
       "    <tr>\n",
       "      <th>4</th>\n",
       "      <td>1</td>\n",
       "      <td>4.62</td>\n",
       "    </tr>\n",
       "  </tbody>\n",
       "</table>\n",
       "</div>"
      ],
      "text/plain": [
       "    current_employment_status  commute_distance_miles\n",
       "id                                                   \n",
       "0                           7                    4.70\n",
       "1                           2                    6.69\n",
       "2                           1                    8.44\n",
       "3                           3                    0.00\n",
       "4                           1                    4.62"
      ]
     },
     "execution_count": 4,
     "metadata": {},
     "output_type": "execute_result"
    }
   ],
   "source": [
    "df_source1"
   ]
  },
  {
   "cell_type": "code",
   "execution_count": 5,
   "metadata": {},
   "outputs": [
    {
     "data": {
      "text/html": [
       "<div>\n",
       "<style scoped>\n",
       "    .dataframe tbody tr th:only-of-type {\n",
       "        vertical-align: middle;\n",
       "    }\n",
       "\n",
       "    .dataframe tbody tr th {\n",
       "        vertical-align: top;\n",
       "    }\n",
       "\n",
       "    .dataframe thead th {\n",
       "        text-align: right;\n",
       "    }\n",
       "</style>\n",
       "<table border=\"1\" class=\"dataframe\">\n",
       "  <thead>\n",
       "    <tr style=\"text-align: right;\">\n",
       "      <th></th>\n",
       "      <th>employment</th>\n",
       "      <th>commute_distance_km</th>\n",
       "    </tr>\n",
       "    <tr>\n",
       "      <th>id</th>\n",
       "      <th></th>\n",
       "      <th></th>\n",
       "    </tr>\n",
       "  </thead>\n",
       "  <tbody>\n",
       "    <tr>\n",
       "      <th>0</th>\n",
       "      <td>1</td>\n",
       "      <td>17.73</td>\n",
       "    </tr>\n",
       "    <tr>\n",
       "      <th>1</th>\n",
       "      <td>2</td>\n",
       "      <td>4.45</td>\n",
       "    </tr>\n",
       "    <tr>\n",
       "      <th>2</th>\n",
       "      <td>2</td>\n",
       "      <td>9.12</td>\n",
       "    </tr>\n",
       "    <tr>\n",
       "      <th>3</th>\n",
       "      <td>3</td>\n",
       "      <td>0.00</td>\n",
       "    </tr>\n",
       "    <tr>\n",
       "      <th>4</th>\n",
       "      <td>3</td>\n",
       "      <td>0.00</td>\n",
       "    </tr>\n",
       "  </tbody>\n",
       "</table>\n",
       "</div>"
      ],
      "text/plain": [
       "    employment  commute_distance_km\n",
       "id                                 \n",
       "0            1                17.73\n",
       "1            2                 4.45\n",
       "2            2                 9.12\n",
       "3            3                 0.00\n",
       "4            3                 0.00"
      ]
     },
     "execution_count": 5,
     "metadata": {},
     "output_type": "execute_result"
    }
   ],
   "source": [
    "df_source2"
   ]
  },
  {
   "cell_type": "markdown",
   "metadata": {},
   "source": [
    "### Step 3: Define harmonization rules to suit use case."
   ]
  },
  {
   "cell_type": "code",
   "execution_count": 6,
   "metadata": {},
   "outputs": [],
   "source": [
    "# spin up a data store for our harmonization rules\n",
    "rules = RuleStore()"
   ]
  },
  {
   "cell_type": "code",
   "execution_count": 7,
   "metadata": {},
   "outputs": [],
   "source": [
    "# re-coding from UP to Data Hub data element\n",
    "employment_rule_up = HarmonizationRule(\n",
    "    source=\"current_employment_status\",\n",
    "    target=\"nih_employment\",\n",
    "    transformation=[\n",
    "        EnumToEnum({\n",
    "            1: 0,\n",
    "            2: 97,\n",
    "            3: 1,\n",
    "            4: 4,\n",
    "            5: 5,\n",
    "            6: 97,\n",
    "            7: 2,\n",
    "            96: 97,\n",
    "            98: 99,\n",
    "            99: 98,\n",
    "        }),\n",
    "    ]\n",
    ")\n",
    "rules.add_rule(employment_rule_up)\n",
    "\n",
    "# re-coding from rad and Data Hub data element\n",
    "employment_rule_rad = HarmonizationRule(\n",
    "    source=\"employment\",\n",
    "    target=\"nih_employment\",\n",
    "    transformation=[\n",
    "        EnumToEnum({\n",
    "            1: 0,\n",
    "            2: 0,\n",
    "            3: 1,\n",
    "        }),\n",
    "    ]\n",
    ")\n",
    "rules.add_rule(employment_rule_rad)"
   ]
  },
  {
   "cell_type": "code",
   "execution_count": 8,
   "metadata": {},
   "outputs": [],
   "source": [
    "# kilometer to miles conversion, mainting 2 significant digits\n",
    "dist_rule_rad = HarmonizationRule(\n",
    "    source=\"commute_distance_km\",\n",
    "    target=\"commute_distance_miles\",\n",
    "    transformation=[\n",
    "        ConvertUnits(source=\"kilometers\", target=\"miles\"),\n",
    "        Round(precision=2),\n",
    "    ]\n",
    ")\n",
    "rules.add_rule(dist_rule_rad)"
   ]
  },
  {
   "cell_type": "markdown",
   "metadata": {},
   "source": [
    "### Step 4: Execute transformations and combine datasets"
   ]
  },
  {
   "cell_type": "code",
   "execution_count": 9,
   "metadata": {},
   "outputs": [
    {
     "name": "stdout",
     "output_type": "stream",
     "text": [
      "Requested rule: current_employment_status -> nih_employment\n",
      "Requested rule: employment -> nih_employment\n",
      "Requested rule: commute_distance_km -> commute_distance_miles\n"
     ]
    }
   ],
   "source": [
    "transformations_up = [\n",
    "    (\"current_employment_status\", \"nih_employment\"),\n",
    "]\n",
    "transformations_rad = [\n",
    "    (\"employment\", \"nih_employment\"),\n",
    "    (\"commute_distance_km\", \"commute_distance_miles\"),\n",
    "]\n",
    "df_harmonized1 = transformations.harmonize_dataset(df_source1, transformations_up, rules, \"up_dataset\", logger)\n",
    "df_harmonized2 = transformations.harmonize_dataset(df_source2, transformations_rad, rules, \"rad_dataset\", logger)\n",
    "integrated = transformations.combine_datasets([df_harmonized1, df_harmonized2])"
   ]
  },
  {
   "cell_type": "code",
   "execution_count": 10,
   "metadata": {},
   "outputs": [
    {
     "data": {
      "text/html": [
       "<div>\n",
       "<style scoped>\n",
       "    .dataframe tbody tr th:only-of-type {\n",
       "        vertical-align: middle;\n",
       "    }\n",
       "\n",
       "    .dataframe tbody tr th {\n",
       "        vertical-align: top;\n",
       "    }\n",
       "\n",
       "    .dataframe thead th {\n",
       "        text-align: right;\n",
       "    }\n",
       "</style>\n",
       "<table border=\"1\" class=\"dataframe\">\n",
       "  <thead>\n",
       "    <tr style=\"text-align: right;\">\n",
       "      <th></th>\n",
       "      <th>nih_employment</th>\n",
       "      <th>commute_distance_miles</th>\n",
       "      <th>source dataset</th>\n",
       "      <th>original_id</th>\n",
       "    </tr>\n",
       "    <tr>\n",
       "      <th>id</th>\n",
       "      <th></th>\n",
       "      <th></th>\n",
       "      <th></th>\n",
       "      <th></th>\n",
       "    </tr>\n",
       "  </thead>\n",
       "  <tbody>\n",
       "    <tr>\n",
       "      <th>0</th>\n",
       "      <td>2</td>\n",
       "      <td>4.70</td>\n",
       "      <td>up_dataset</td>\n",
       "      <td>0</td>\n",
       "    </tr>\n",
       "    <tr>\n",
       "      <th>1</th>\n",
       "      <td>97</td>\n",
       "      <td>6.69</td>\n",
       "      <td>up_dataset</td>\n",
       "      <td>1</td>\n",
       "    </tr>\n",
       "    <tr>\n",
       "      <th>2</th>\n",
       "      <td>0</td>\n",
       "      <td>8.44</td>\n",
       "      <td>up_dataset</td>\n",
       "      <td>2</td>\n",
       "    </tr>\n",
       "    <tr>\n",
       "      <th>3</th>\n",
       "      <td>1</td>\n",
       "      <td>0.00</td>\n",
       "      <td>up_dataset</td>\n",
       "      <td>3</td>\n",
       "    </tr>\n",
       "    <tr>\n",
       "      <th>4</th>\n",
       "      <td>0</td>\n",
       "      <td>4.62</td>\n",
       "      <td>up_dataset</td>\n",
       "      <td>4</td>\n",
       "    </tr>\n",
       "    <tr>\n",
       "      <th>5</th>\n",
       "      <td>0</td>\n",
       "      <td>11.02</td>\n",
       "      <td>rad_dataset</td>\n",
       "      <td>0</td>\n",
       "    </tr>\n",
       "    <tr>\n",
       "      <th>6</th>\n",
       "      <td>0</td>\n",
       "      <td>2.77</td>\n",
       "      <td>rad_dataset</td>\n",
       "      <td>1</td>\n",
       "    </tr>\n",
       "    <tr>\n",
       "      <th>7</th>\n",
       "      <td>0</td>\n",
       "      <td>5.67</td>\n",
       "      <td>rad_dataset</td>\n",
       "      <td>2</td>\n",
       "    </tr>\n",
       "    <tr>\n",
       "      <th>8</th>\n",
       "      <td>1</td>\n",
       "      <td>0.00</td>\n",
       "      <td>rad_dataset</td>\n",
       "      <td>3</td>\n",
       "    </tr>\n",
       "    <tr>\n",
       "      <th>9</th>\n",
       "      <td>1</td>\n",
       "      <td>0.00</td>\n",
       "      <td>rad_dataset</td>\n",
       "      <td>4</td>\n",
       "    </tr>\n",
       "  </tbody>\n",
       "</table>\n",
       "</div>"
      ],
      "text/plain": [
       "    nih_employment  commute_distance_miles source dataset  original_id\n",
       "id                                                                    \n",
       "0                2                    4.70     up_dataset            0\n",
       "1               97                    6.69     up_dataset            1\n",
       "2                0                    8.44     up_dataset            2\n",
       "3                1                    0.00     up_dataset            3\n",
       "4                0                    4.62     up_dataset            4\n",
       "5                0                   11.02    rad_dataset            0\n",
       "6                0                    2.77    rad_dataset            1\n",
       "7                0                    5.67    rad_dataset            2\n",
       "8                1                    0.00    rad_dataset            3\n",
       "9                1                    0.00    rad_dataset            4"
      ]
     },
     "execution_count": 10,
     "metadata": {},
     "output_type": "execute_result"
    }
   ],
   "source": [
    "integrated"
   ]
  },
  {
   "cell_type": "markdown",
   "metadata": {},
   "source": [
    "### Example: save harmonization rules to disk"
   ]
  },
  {
   "cell_type": "code",
   "execution_count": 14,
   "metadata": {},
   "outputs": [],
   "source": [
    "rules.save(\"demo_rules.json\")"
   ]
  },
  {
   "cell_type": "markdown",
   "metadata": {},
   "source": [
    "### Example: replay harmonization from log"
   ]
  },
  {
   "cell_type": "code",
   "execution_count": 11,
   "metadata": {},
   "outputs": [
    {
     "name": "stdout",
     "output_type": "stream",
     "text": [
      "Requested rule: current_employment_status -> nih_employment\n",
      "Requested rule: employment -> nih_employment\n",
      "Requested rule: commute_distance_km -> commute_distance_miles\n"
     ]
    }
   ],
   "source": [
    "replay_results = transformations.replay(\"demo.log\", {\"up_dataset\": df_source1, \"rad_dataset\": df_source2})\n",
    "replay_integrated = transformations.combine_datasets(replay_results.values())"
   ]
  },
  {
   "cell_type": "code",
   "execution_count": 12,
   "metadata": {},
   "outputs": [
    {
     "data": {
      "text/html": [
       "<div>\n",
       "<style scoped>\n",
       "    .dataframe tbody tr th:only-of-type {\n",
       "        vertical-align: middle;\n",
       "    }\n",
       "\n",
       "    .dataframe tbody tr th {\n",
       "        vertical-align: top;\n",
       "    }\n",
       "\n",
       "    .dataframe thead th {\n",
       "        text-align: right;\n",
       "    }\n",
       "</style>\n",
       "<table border=\"1\" class=\"dataframe\">\n",
       "  <thead>\n",
       "    <tr style=\"text-align: right;\">\n",
       "      <th></th>\n",
       "      <th>nih_employment</th>\n",
       "      <th>commute_distance_miles</th>\n",
       "      <th>source dataset</th>\n",
       "      <th>original_id</th>\n",
       "    </tr>\n",
       "    <tr>\n",
       "      <th>id</th>\n",
       "      <th></th>\n",
       "      <th></th>\n",
       "      <th></th>\n",
       "      <th></th>\n",
       "    </tr>\n",
       "  </thead>\n",
       "  <tbody>\n",
       "    <tr>\n",
       "      <th>0</th>\n",
       "      <td>2</td>\n",
       "      <td>4.70</td>\n",
       "      <td>up_dataset</td>\n",
       "      <td>0</td>\n",
       "    </tr>\n",
       "    <tr>\n",
       "      <th>1</th>\n",
       "      <td>97</td>\n",
       "      <td>6.69</td>\n",
       "      <td>up_dataset</td>\n",
       "      <td>1</td>\n",
       "    </tr>\n",
       "    <tr>\n",
       "      <th>2</th>\n",
       "      <td>0</td>\n",
       "      <td>8.44</td>\n",
       "      <td>up_dataset</td>\n",
       "      <td>2</td>\n",
       "    </tr>\n",
       "    <tr>\n",
       "      <th>3</th>\n",
       "      <td>1</td>\n",
       "      <td>0.00</td>\n",
       "      <td>up_dataset</td>\n",
       "      <td>3</td>\n",
       "    </tr>\n",
       "    <tr>\n",
       "      <th>4</th>\n",
       "      <td>0</td>\n",
       "      <td>4.62</td>\n",
       "      <td>up_dataset</td>\n",
       "      <td>4</td>\n",
       "    </tr>\n",
       "    <tr>\n",
       "      <th>5</th>\n",
       "      <td>0</td>\n",
       "      <td>11.02</td>\n",
       "      <td>rad_dataset</td>\n",
       "      <td>0</td>\n",
       "    </tr>\n",
       "    <tr>\n",
       "      <th>6</th>\n",
       "      <td>0</td>\n",
       "      <td>2.77</td>\n",
       "      <td>rad_dataset</td>\n",
       "      <td>1</td>\n",
       "    </tr>\n",
       "    <tr>\n",
       "      <th>7</th>\n",
       "      <td>0</td>\n",
       "      <td>5.67</td>\n",
       "      <td>rad_dataset</td>\n",
       "      <td>2</td>\n",
       "    </tr>\n",
       "    <tr>\n",
       "      <th>8</th>\n",
       "      <td>1</td>\n",
       "      <td>0.00</td>\n",
       "      <td>rad_dataset</td>\n",
       "      <td>3</td>\n",
       "    </tr>\n",
       "    <tr>\n",
       "      <th>9</th>\n",
       "      <td>1</td>\n",
       "      <td>0.00</td>\n",
       "      <td>rad_dataset</td>\n",
       "      <td>4</td>\n",
       "    </tr>\n",
       "  </tbody>\n",
       "</table>\n",
       "</div>"
      ],
      "text/plain": [
       "    nih_employment  commute_distance_miles source dataset  original_id\n",
       "id                                                                    \n",
       "0                2                    4.70     up_dataset            0\n",
       "1               97                    6.69     up_dataset            1\n",
       "2                0                    8.44     up_dataset            2\n",
       "3                1                    0.00     up_dataset            3\n",
       "4                0                    4.62     up_dataset            4\n",
       "5                0                   11.02    rad_dataset            0\n",
       "6                0                    2.77    rad_dataset            1\n",
       "7                0                    5.67    rad_dataset            2\n",
       "8                1                    0.00    rad_dataset            3\n",
       "9                1                    0.00    rad_dataset            4"
      ]
     },
     "execution_count": 12,
     "metadata": {},
     "output_type": "execute_result"
    }
   ],
   "source": [
    "replay_integrated"
   ]
  },
  {
   "cell_type": "markdown",
   "metadata": {},
   "source": [
    "### Example: harmonization rule using categorical bins"
   ]
  },
  {
   "cell_type": "code",
   "execution_count": 13,
   "metadata": {},
   "outputs": [],
   "source": [
    "# age in text to age range\n",
    "age_rule = HarmonizationRule(\n",
    "    source=\"age_text\",\n",
    "    target=\"age_range\",\n",
    "    transformation=[\n",
    "        Cast(\"text\", \"integer\"),\n",
    "        Bin([\n",
    "            [0, [0, 30]],\n",
    "            [1, [31, 40]],\n",
    "            [2, [41, 50]],\n",
    "            [3, [51, 60]],\n",
    "            [4, [61, 70]],\n",
    "            [5, [70, sys.maxsize]],\n",
    "        ]),\n",
    "    ],\n",
    ")\n",
    "rules.add_rule(age_rule)"
   ]
  }
 ],
 "metadata": {
  "kernelspec": {
   "display_name": "harmonization",
   "language": "python",
   "name": "python3"
  },
  "language_info": {
   "codemirror_mode": {
    "name": "ipython",
    "version": 3
   },
   "file_extension": ".py",
   "mimetype": "text/x-python",
   "name": "python",
   "nbconvert_exporter": "python",
   "pygments_lexer": "ipython3",
   "version": "3.10.14"
  }
 },
 "nbformat": 4,
 "nbformat_minor": 2
}
